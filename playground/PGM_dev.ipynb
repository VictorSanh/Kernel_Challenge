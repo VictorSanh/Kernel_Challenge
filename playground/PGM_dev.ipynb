{
 "cells": [
  {
   "cell_type": "code",
   "execution_count": 81,
   "metadata": {},
   "outputs": [],
   "source": [
    "%reset"
   ]
  },
  {
   "cell_type": "code",
   "execution_count": 2,
   "metadata": {},
   "outputs": [],
   "source": [
    "import os\n",
    "os.chdir('../')\n",
    "\n",
    "from data_handler import *\n",
    "\n",
    "import numpy as np\n",
    "from textwrap import wrap\n",
    "\n",
    "%matplotlib inline\n",
    "import matplotlib.pyplot as plt"
   ]
  },
  {
   "cell_type": "code",
   "execution_count": 3,
   "metadata": {},
   "outputs": [],
   "source": [
    "def learn_probs(data_train, substring_length):\n",
    "    '''Learn the probabilities by counting \n",
    "    the number of time a substring was implied in a binding sequence'''\n",
    "\n",
    "    counts = {}\n",
    "    for _, row in data_train.iterrows():\n",
    "        sequence = row['Sequence']\n",
    "        binding = row['Bound']\n",
    "        substrings = wrap(sequence, substring_length)\n",
    "        for substr in substrings:\n",
    "            if substr in counts.keys():\n",
    "                counts[substr]['count'] = counts[substr]['count'] + 1\n",
    "                counts[substr]['binding'] = counts[substr]['binding'] + int(binding)\n",
    "            else:\n",
    "                counts[substr] = {'count': 1, 'binding': int(binding)}\n",
    "\n",
    "    probs = {}\n",
    "    for substr in counts.keys():\n",
    "        probs[substr] = counts[substr]['binding']/counts[substr]['count']\n",
    "        \n",
    "    return probs"
   ]
  },
  {
   "cell_type": "code",
   "execution_count": 4,
   "metadata": {},
   "outputs": [],
   "source": [
    "# for sequence in data_test['Sequence']:\n",
    "#     for t in wrap(sequence, substring_length):\n",
    "#         if t not in probs.keys(): print(t)"
   ]
  },
  {
   "cell_type": "code",
   "execution_count": 20,
   "metadata": {},
   "outputs": [],
   "source": [
    "def compute_binding_prob(sequence, prob_dict, substring_length):\n",
    "    proba = 1\n",
    "    for substring in wrap(sequence, substring_length):\n",
    "        if substring in prob_dict.keys():\n",
    "            proba *= prob_dict[substring]\n",
    "        else:\n",
    "            proba *= 0.5\n",
    "    return 1 - proba"
   ]
  },
  {
   "cell_type": "code",
   "execution_count": 21,
   "metadata": {},
   "outputs": [],
   "source": [
    "## Loading training data\n",
    "tr0 = load_data(0, 'tr')\n",
    "tr1 = load_data(1, 'tr')\n",
    "tr2 = load_data(2, 'tr')\n",
    "\n",
    "## Loading test data\n",
    "te0 = load_data(0, 'te')\n",
    "te1 = load_data(1, 'te')\n",
    "te2 = load_data(2, 'te')"
   ]
  },
  {
   "cell_type": "markdown",
   "metadata": {},
   "source": [
    "**Set 0**"
   ]
  },
  {
   "cell_type": "code",
   "execution_count": 22,
   "metadata": {},
   "outputs": [
    {
     "name": "stdout",
     "output_type": "stream",
     "text": [
      "Substring Length: 3 - Accuracy: 35.60%\n",
      "Substring Length: 4 - Accuracy: 30.20%\n",
      "Substring Length: 5 - Accuracy: 22.85%\n",
      "Substring Length: 6 - Accuracy: 27.50%\n"
     ]
    }
   ],
   "source": [
    "for substring_length in [3,4,5,6]:\n",
    "\n",
    "    probs = learn_probs(tr0, substring_length)\n",
    "\n",
    "    sequence_prob = []\n",
    "    for _, row in tr0.iterrows():\n",
    "        seq = row['Sequence']\n",
    "        binding = row['Bound']\n",
    "        sequence_prob.append(compute_binding_prob(seq, probs, substring_length))\n",
    "\n",
    "    predictions = np.array(sequence_prob)>np.mean(sequence_prob)\n",
    "    acc = 100*np.mean(predictions == tr0['Bound'])\n",
    "    print('Substring Length: {} - Accuracy: {:.2f}%'.format(substring_length, acc))"
   ]
  },
  {
   "cell_type": "code",
   "execution_count": 24,
   "metadata": {},
   "outputs": [
    {
     "name": "stdout",
     "output_type": "stream",
     "text": [
      "Substring Length: 3 - Accuracy: 39.60%\n",
      "Substring Length: 4 - Accuracy: 36.65%\n",
      "Substring Length: 5 - Accuracy: 33.00%\n",
      "Substring Length: 6 - Accuracy: 31.10%\n"
     ]
    }
   ],
   "source": [
    "for substring_length in [3,4,5,6]:\n",
    "\n",
    "    probs = learn_probs(tr1, substring_length)\n",
    "\n",
    "    sequence_prob = []\n",
    "    for _, row in tr1.iterrows():\n",
    "        seq = row['Sequence']\n",
    "        binding = row['Bound']\n",
    "        sequence_prob.append(compute_binding_prob(seq, probs, substring_length))\n",
    "\n",
    "    predictions = np.array(sequence_prob)>np.mean(sequence_prob)\n",
    "    acc = 100*np.mean(predictions == tr1['Bound'])\n",
    "    print('Substring Length: {} - Accuracy: {:.2f}%'.format(substring_length, acc))"
   ]
  },
  {
   "cell_type": "code",
   "execution_count": 25,
   "metadata": {},
   "outputs": [
    {
     "name": "stdout",
     "output_type": "stream",
     "text": [
      "Substring Length: 3 - Accuracy: 39.65%\n",
      "Substring Length: 4 - Accuracy: 34.45%\n",
      "Substring Length: 5 - Accuracy: 27.20%\n",
      "Substring Length: 6 - Accuracy: 27.10%\n"
     ]
    }
   ],
   "source": [
    "for substring_length in [3,4,5,6]:\n",
    "\n",
    "    probs = learn_probs(tr2, substring_length)\n",
    "\n",
    "    sequence_prob = []\n",
    "    for _, row in tr2.iterrows():\n",
    "        seq = row['Sequence']\n",
    "        binding = row['Bound']\n",
    "        sequence_prob.append(compute_binding_prob(seq, probs, substring_length))\n",
    "\n",
    "    predictions = np.array(sequence_prob)>np.mean(sequence_prob)\n",
    "    acc = 100*np.mean(predictions == tr2['Bound'])\n",
    "    print('Substring Length: {} - Accuracy: {:.2f}%'.format(substring_length, acc))"
   ]
  },
  {
   "cell_type": "code",
   "execution_count": null,
   "metadata": {},
   "outputs": [],
   "source": []
  }
 ],
 "metadata": {
  "kernelspec": {
   "display_name": "Python 3",
   "language": "python",
   "name": "python3"
  },
  "language_info": {
   "codemirror_mode": {
    "name": "ipython",
    "version": 3
   },
   "file_extension": ".py",
   "mimetype": "text/x-python",
   "name": "python",
   "nbconvert_exporter": "python",
   "pygments_lexer": "ipython3",
   "version": "3.5.2"
  }
 },
 "nbformat": 4,
 "nbformat_minor": 2
}
