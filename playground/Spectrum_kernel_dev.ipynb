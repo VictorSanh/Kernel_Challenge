{
 "cells": [
  {
   "cell_type": "markdown",
   "metadata": {},
   "source": [
    "# Spectrum Kernel Development\n",
    "Described in Slides 341 -> 344."
   ]
  },
  {
   "cell_type": "code",
   "execution_count": null,
   "metadata": {},
   "outputs": [],
   "source": [
    "%reset"
   ]
  },
  {
   "cell_type": "code",
   "execution_count": null,
   "metadata": {},
   "outputs": [],
   "source": [
    "import os\n",
    "os.chdir('../')\n",
    "\n",
    "from data_handler import *\n",
    "\n",
    "import numpy as np"
   ]
  },
  {
   "cell_type": "markdown",
   "metadata": {},
   "source": [
    "# Create Spectrum Kernel functions"
   ]
  },
  {
   "cell_type": "code",
   "execution_count": null,
   "metadata": {},
   "outputs": [],
   "source": [
    "def create_dictionary(training_sequences, substring_length):\n",
    "    '''Create the dictionary/vocabulary of possible subsequeces of length substring_length from training sequences.\n",
    "    \"ABCD\" contains two words of legnth 3: \"ABC\" and \"BCD\".\n",
    "    \n",
    "    Input:\n",
    "        training_sequences: array like strucutre containing training sequences\n",
    "        substring_length: length of substring in sequence\n",
    "    Output:\n",
    "        word_2_index: mapping between a word and its index. The keys are all the words of length substring_length appearing in training sequences. \n",
    "    '''\n",
    "    \n",
    "    unique_subsequences = set()\n",
    "\n",
    "    for string in training_sequences:\n",
    "        for start in range(len(string)-substring_length+1):\n",
    "            end = start + substring_length\n",
    "            substring = string[start:end]\n",
    "            unique_subsequences.add(substring)\n",
    "    \n",
    "    #Creating the word_2_index mapping words and their index. The keys are all the words.\n",
    "    unique_subsequences = sorted(unique_subsequences)\n",
    "    word_2_index = dict()\n",
    "    for idx, word in enumerate(unique_subsequences):\n",
    "        word_2_index[word] = idx\n",
    "        \n",
    "    return word_2_index"
   ]
  },
  {
   "cell_type": "code",
   "execution_count": null,
   "metadata": {},
   "outputs": [],
   "source": [
    "def create_occ_feature(sequence, substring_length, dictionary, normalize=True):\n",
    "    '''Create the spectrum kernel feature vector of occurences of every word in dictionary/vocabulary.\n",
    "    \n",
    "    Input:\n",
    "        sequence: ADN sequence to transform\n",
    "        dictionary: already trained dictionary listing all the words appearing in training and their index\n",
    "        normalize: if true, transform the occurences in percentage (frequencies)\n",
    "    Ouput:\n",
    "        feature: occurence of each word in dictionary/vocabulary\n",
    "    '''\n",
    "    \n",
    "    feature = np.zeros(len(dictionary), dtype = int)\n",
    "    \n",
    "    for start in range(len(sequence)-substring_length+1):\n",
    "        end = start + substring_length\n",
    "        substring = sequence[start:end]\n",
    "        if substring in dictionary: #It is possible that some word in test are not appearing in training\n",
    "            feature[dictionary[substring]] = feature[dictionary[substring]] + 1\n",
    "            \n",
    "    if normalize:\n",
    "        feature = feature/feature.sum()\n",
    "        \n",
    "    return feature"
   ]
  },
  {
   "cell_type": "code",
   "execution_count": null,
   "metadata": {},
   "outputs": [],
   "source": [
    "def spetrum_kernel(sequence_A, sequence_B, substring_length, dictionary, normalize=False):\n",
    "    '''substring_length-spectrum kernel\n",
    "    \n",
    "    Input:\n",
    "        sequence_A: first sequence\n",
    "        sequence_B: second sequence\n",
    "        substring_length: length of word in vocabulary\n",
    "        dictionary: vocabulary derived from training\n",
    "        normalize: if true, transform the occurences in percentage (frequencies)\n",
    "    Output:\n",
    "        kernel similarity between sequence_A and sequence_B\n",
    "    '''\n",
    "    \n",
    "    feature_A = create_occ_feature(sequence_A, substring_length, dictionary, normalize)\n",
    "    feature_B = create_occ_feature(sequence_B, substring_length, dictionary, normalize)\n",
    "    \n",
    "    return np.dot(feature_A, feature_B)"
   ]
  },
  {
   "cell_type": "markdown",
   "metadata": {},
   "source": [
    "# Test these functions"
   ]
  },
  {
   "cell_type": "code",
   "execution_count": null,
   "metadata": {},
   "outputs": [],
   "source": [
    "data = load_data(1, 'tr')\n",
    "\n",
    "substring_length = 3\n",
    "dictionary = create_dictionary(data['Sequence'], substring_length)\n",
    "\n",
    "seq_A = data['Sequence'][0]\n",
    "seq_B = data['Sequence'][2]\n",
    "\n",
    "spetrum_kernel(seq_A, seq_B, substring_length, dictionary, False)"
   ]
  },
  {
   "cell_type": "markdown",
   "metadata": {},
   "source": [
    "# Training simple kernel SVM using spectrum kernel"
   ]
  },
  {
   "cell_type": "code",
   "execution_count": null,
   "metadata": {},
   "outputs": [],
   "source": [
    "from kernel_methods import *"
   ]
  },
  {
   "cell_type": "code",
   "execution_count": null,
   "metadata": {},
   "outputs": [],
   "source": [
    "lbda = 0.5\n",
    "kSVM = kernelSVM(lbda)"
   ]
  },
  {
   "cell_type": "code",
   "execution_count": null,
   "metadata": {},
   "outputs": [],
   "source": [
    "#Charge training data and create training vocabulary\n",
    "tr0 = load_data(0, 'tr')\n",
    "\n",
    "substring_length = 3\n",
    "dictionary = create_dictionary(tr0['Sequence'], substring_length)\n",
    "\n",
    "#Train\n",
    "kSVM.run(tr0['Sequence'], \n",
    "         tr0['Bound'], \n",
    "         lambda seq_A, seq_B: spetrum_kernel(seq_A, seq_B, substring_length, dictionary, normalize = False), \n",
    "         stringsData = False)\n",
    "\n",
    "#Test\n",
    "te0 = load_data(0, 'te')\n",
    "predictions = kSVM.predict(te0['Sequence'], stringsData = False)"
   ]
  },
  {
   "cell_type": "code",
   "execution_count": null,
   "metadata": {},
   "outputs": [],
   "source": []
  }
 ],
 "metadata": {
  "kernelspec": {
   "display_name": "Python 3",
   "language": "python",
   "name": "python3"
  },
  "language_info": {
   "codemirror_mode": {
    "name": "ipython",
    "version": 3
   },
   "file_extension": ".py",
   "mimetype": "text/x-python",
   "name": "python",
   "nbconvert_exporter": "python",
   "pygments_lexer": "ipython3",
   "version": "3.5.2"
  }
 },
 "nbformat": 4,
 "nbformat_minor": 2
}
