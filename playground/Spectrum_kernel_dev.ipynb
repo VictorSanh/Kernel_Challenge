{
 "cells": [
  {
   "cell_type": "markdown",
   "metadata": {},
   "source": [
    "# Spectrum Kernel Development\n",
    "Described in Slides 341 -> 344."
   ]
  },
  {
   "cell_type": "code",
   "execution_count": null,
   "metadata": {},
   "outputs": [],
   "source": [
    "%reset"
   ]
  },
  {
   "cell_type": "code",
   "execution_count": 1,
   "metadata": {},
   "outputs": [],
   "source": [
    "import os\n",
    "os.chdir('../')\n",
    "\n",
    "from data_handler import *\n",
    "\n",
    "import numpy as np"
   ]
  },
  {
   "cell_type": "markdown",
   "metadata": {},
   "source": [
    "# Create Spectrum Kernel functions"
   ]
  },
  {
   "cell_type": "code",
   "execution_count": 2,
   "metadata": {},
   "outputs": [],
   "source": [
    "def create_dictionary(training_sequences, substring_length):\n",
    "    '''Create the dictionary/vocabulary of possible subsequeces of length substring_length from training sequences.\n",
    "    \"ABCD\" contains two words of legnth 3: \"ABC\" and \"BCD\".\n",
    "    \n",
    "    Input:\n",
    "        training_sequences: array like strucutre containing training sequences\n",
    "        substring_length: length of substring in sequence\n",
    "    Output:\n",
    "        word_2_index: mapping between a word and its index. The keys are all the words of length substring_length appearing in training sequences. \n",
    "    '''\n",
    "    \n",
    "    unique_subsequences = set()\n",
    "\n",
    "    for string in training_sequences:\n",
    "        for start in range(len(string)-substring_length+1):\n",
    "            end = start + substring_length\n",
    "            substring = string[start:end]\n",
    "            unique_subsequences.add(substring)\n",
    "    \n",
    "    #Creating the word_2_index mapping words and their index. The keys are all the words.\n",
    "    unique_subsequences = sorted(unique_subsequences)\n",
    "    word_2_index = dict()\n",
    "    for idx, word in enumerate(unique_subsequences):\n",
    "        word_2_index[word] = idx\n",
    "        \n",
    "    return word_2_index"
   ]
  },
  {
   "cell_type": "code",
   "execution_count": 3,
   "metadata": {},
   "outputs": [],
   "source": [
    "def create_occ_feature(sequence, substring_length, dictionary, normalize=True):\n",
    "    '''Create the spectrum kernel feature vector of occurences of every word in dictionary/vocabulary.\n",
    "    \n",
    "    Input:\n",
    "        sequence: ADN sequence to transform\n",
    "        dictionary: already trained dictionary listing all the words appearing in training and their index\n",
    "        normalize: if true, transform the occurences in percentage (frequencies)\n",
    "    Ouput:\n",
    "        feature: occurence of each word in dictionary/vocabulary\n",
    "    '''\n",
    "    \n",
    "    feature = np.zeros(len(dictionary), dtype = int)\n",
    "    \n",
    "    for start in range(len(sequence)-substring_length+1):\n",
    "        end = start + substring_length\n",
    "        substring = sequence[start:end]\n",
    "        if substring in dictionary: #It is possible that some word in test are not appearing in training\n",
    "            feature[dictionary[substring]] = feature[dictionary[substring]] + 1\n",
    "            \n",
    "    if normalize:\n",
    "        feature = feature/feature.sum()\n",
    "        \n",
    "    return feature"
   ]
  },
  {
   "cell_type": "code",
   "execution_count": 4,
   "metadata": {},
   "outputs": [],
   "source": [
    "def spetrum_kernel(sequence_A, sequence_B, substring_length, dictionary, normalize=False):\n",
    "    '''substring_length-spectrum kernel\n",
    "    \n",
    "    Input:\n",
    "        sequence_A: first sequence\n",
    "        sequence_B: second sequence\n",
    "        substring_length: length of word in vocabulary\n",
    "        dictionary: vocabulary derived from training\n",
    "        normalize: if true, transform the occurences in percentage (frequencies)\n",
    "    Output:\n",
    "        kernel similarity between sequence_A and sequence_B\n",
    "    '''\n",
    "    \n",
    "    feature_A = create_occ_feature(sequence_A, substring_length, dictionary, normalize)\n",
    "    feature_B = create_occ_feature(sequence_B, substring_length, dictionary, normalize)\n",
    "    \n",
    "    return np.dot(feature_A, feature_B)"
   ]
  },
  {
   "cell_type": "markdown",
   "metadata": {},
   "source": [
    "# Test these functions"
   ]
  },
  {
   "cell_type": "code",
   "execution_count": 5,
   "metadata": {},
   "outputs": [
    {
     "data": {
      "text/plain": [
       "95"
      ]
     },
     "execution_count": 5,
     "metadata": {},
     "output_type": "execute_result"
    }
   ],
   "source": [
    "data = load_data(1, 'tr')\n",
    "\n",
    "substring_length = 3\n",
    "dictionary = create_dictionary(data['Sequence'], substring_length)\n",
    "\n",
    "seq_A = data['Sequence'][0]\n",
    "seq_B = data['Sequence'][2]\n",
    "\n",
    "spetrum_kernel(seq_A, seq_B, substring_length, dictionary, False)"
   ]
  },
  {
   "cell_type": "markdown",
   "metadata": {},
   "source": [
    "# Training simple kernel SVM using spectrum kernel"
   ]
  },
  {
   "cell_type": "code",
   "execution_count": 6,
   "metadata": {},
   "outputs": [],
   "source": [
    "from kernel_methods import *"
   ]
  },
  {
   "cell_type": "code",
   "execution_count": 7,
   "metadata": {},
   "outputs": [],
   "source": [
    "lbda = 0.5\n",
    "kSVM = kernelSVM(lbda)"
   ]
  },
  {
   "cell_type": "code",
   "execution_count": 9,
   "metadata": {},
   "outputs": [
    {
     "name": "stderr",
     "output_type": "stream",
     "text": [
      "/home/victor/Documents/ENPC/MVA/Kernel/Kernel_Challenge/kernel_methods.py:31: FutureWarning: reshape is deprecated and will raise in a subsequent release. Please use .values.reshape(...) instead\n",
      "  arr1 = arr1.reshape((len(arr1),1))\n",
      "/home/victor/Documents/ENPC/MVA/Kernel/Kernel_Challenge/kernel_methods.py:33: FutureWarning: reshape is deprecated and will raise in a subsequent release. Please use .values.reshape(...) instead\n",
      "  arr2 = arr2.reshape((len(arr2),1))\n"
     ]
    },
    {
     "name": "stdout",
     "output_type": "stream",
     "text": [
      "Building kernel matrix from 2000x2000 samples...\n",
      "...done in 24.90s\n",
      "Building kernel matrix from 1000x2000 samples...\n",
      "...done in 11.01s\n"
     ]
    }
   ],
   "source": [
    "#Charge training data and create training vocabulary\n",
    "tr0 = load_data(0, 'tr')\n",
    "\n",
    "substring_length = 3\n",
    "dictionary = create_dictionary(tr0['Sequence'], substring_length)\n",
    "\n",
    "#Train\n",
    "kSVM.train(tr0['Sequence'], \n",
    "           tr0['Bound'], \n",
    "           lambda seq_A, seq_B: spetrum_kernel(seq_A, seq_B, substring_length, dictionary, normalize = False), \n",
    "           stringsData = False)\n",
    "\n",
    "#Test\n",
    "te0 = load_data(0, 'te')\n",
    "predictions = kSVM.predict(te0['Sequence'], stringsData = False)"
   ]
  },
  {
   "cell_type": "markdown",
   "metadata": {},
   "source": [
    "# Optimizing simple classification models on spectrum features"
   ]
  },
  {
   "cell_type": "code",
   "execution_count": 33,
   "metadata": {},
   "outputs": [],
   "source": [
    "from sklearn.model_selection import cross_val_score\n",
    "\n",
    "from sklearn.linear_model import LogisticRegression\n",
    "from sklearn.svm import SVC\n",
    "from sklearn.ensemble import RandomForestClassifier\n",
    "from sklearn.neural_network import MLPClassifier\n",
    "\n",
    "from xgboost import XGBClassifier\n",
    "\n",
    "import warnings\n",
    "warnings.filterwarnings('ignore')"
   ]
  },
  {
   "cell_type": "code",
   "execution_count": 34,
   "metadata": {},
   "outputs": [],
   "source": [
    "data = load_data(0, 'tr')\n",
    "\n",
    "Y = data['Bound']"
   ]
  },
  {
   "cell_type": "code",
   "execution_count": null,
   "metadata": {},
   "outputs": [
    {
     "name": "stdout",
     "output_type": "stream",
     "text": [
      "Substring Length: 3 -------------------------\n",
      "Vocabulary size: 64\n",
      "Logistic Regression - l1 penalty - C: 0.001 - Mean Cross Validation Score: 50.00%\n",
      "Logistic Regression - l1 penalty - C: 0.01 - Mean Cross Validation Score: 63.15%\n",
      "Logistic Regression - l1 penalty - C: 0.05 - Mean Cross Validation Score: 66.80%\n",
      "Logistic Regression - l1 penalty - C: 0.1 - Mean Cross Validation Score: 67.25%\n",
      "Logistic Regression - l2 penalty - C: 0.005 - Mean Cross Validation Score: 67.40%\n",
      "Logistic Regression - l2 penalty - C: 0.01 - Mean Cross Validation Score: 67.85%\n",
      "MLP - 10 architecture - regu: 10 - Mean Cross Validation Score: 68.30%\n",
      "MLP - 50 architecture - regu: 5 - Mean Cross Validation Score: 68.50%\n",
      "MLP - 100 architecture - regu: 5 - Mean Cross Validation Score: 68.85%\n"
     ]
    }
   ],
   "source": [
    "for substring_length in [3, 4, 5, 6, 7]:\n",
    "    print('Substring Length: {} -------------------------'.format(substring_length))\n",
    "    dictionary = create_dictionary(data['Sequence'], substring_length)\n",
    "    print('Vocabulary size: {}'.format(len(dictionary)))\n",
    "\n",
    "    X = np.zeros((len(data), len(dictionary)))\n",
    "    for idx, seq in enumerate(data['Sequence']):\n",
    "        X[idx, :] = create_occ_feature(seq, substring_length, dictionary, normalize = False)\n",
    "    \n",
    "    max_score = 0\n",
    "    max_model = None\n",
    "    \n",
    "    #Logistic Regrression\n",
    "    for penal in ['l1', 'l2']:\n",
    "        for regu in [0.001, 0.005, 0.01, 0.05, 0.1, 0.5, 1, 5,10]:\n",
    "            model = LogisticRegression(penalty = penal, C = regu, random_state = 777)\n",
    "            score = np.mean(cross_val_score(model, X, Y, cv = 5))\n",
    "            if score > max_score:\n",
    "                max_score = score\n",
    "                max_model = model\n",
    "                print('Logistic Regression - {0} penalty - C: {1} - Mean Cross Validation Score: {2:.2f}%'.format(penal, regu, 100*score))\n",
    "\n",
    "    #Random Forest\n",
    "    for max_depth in [2,3,4,5]:\n",
    "        for n_estim in [10,25,50,75,100,500]:\n",
    "            model = RandomForestClassifier(max_depth = max_depth, n_estimators = n_estim, random_state = 777)\n",
    "            score = np.mean(cross_val_score(model, X, Y, cv = 5))\n",
    "            if score > max_score:\n",
    "                max_score = score\n",
    "                max_model = model\n",
    "                print('Random Forest - {0} max_depth - n_estimators: {1} - Mean Cross Validation Score: {2:.2f}%'.format(max_depth, n_estim, 100*score))\n",
    "    \n",
    "    #XGBoost             \n",
    "    for max_depth in [2,3,4,5]:\n",
    "        for n_estim in [10,25,50,75,100,500]:\n",
    "            model = XGBClassifier(max_depth = max_depth, n_estimators = n_estim, random_state = 777)\n",
    "            score = np.mean(cross_val_score(model, X, Y, cv = 5))\n",
    "            if score > max_score:\n",
    "                max_score = score\n",
    "                max_model = model\n",
    "                print('Xgboost - {0} max_depth - n_estimators: {1} - Mean Cross Validation Score: {2:.2f}%'.format(max_depth, n_estim, 100*score))\n",
    "    #SVM\n",
    "    for kernel in ['linear', 'rbf']:\n",
    "        for regu in [0.001, 0.005, 0.01, 0.05, 0.1, 0.5, 1, 5,10]:\n",
    "            model = SVC(kernel = kernel, C = regu, random_state = 777)\n",
    "            score = np.mean(cross_val_score(model, X, Y, cv = 5))\n",
    "            if score > max_score:\n",
    "                max_score = score\n",
    "                max_model = model\n",
    "                print('SVM - {0} kernel - C: {1} - Mean Cross Validation Score: {2:.2f}%'.format(kernel, regu, 100*score))\n",
    "\n",
    "    #MLP\n",
    "    for architecture in [(10), (20), (50), (100), (10,10), (20,20), (50,50), (100,100)]:\n",
    "        for alpha in [0.001, 0.005, 0.01, 0.05, 0.1, 0.5, 1, 5,10]:\n",
    "            model = MLPClassifier(hidden_layer_sizes = architecture, alpha = alpha)\n",
    "            score = np.mean(cross_val_score(model, X, Y, cv = 5))\n",
    "            if score > max_score:\n",
    "                max_score = score\n",
    "                max_model = model\n",
    "                print('MLP - {0} architecture - regu: {1} - Mean Cross Validation Score: {2:.2f}%'.format(architecture, alpha, 100*score))\n",
    "                \n",
    "print('Best Model is: {}'.format(max_model))\n",
    "print('It achieves {:.2f}% 5fold cross validation'.format(100*max_score))"
   ]
  },
  {
   "cell_type": "code",
   "execution_count": null,
   "metadata": {},
   "outputs": [],
   "source": []
  }
 ],
 "metadata": {
  "kernelspec": {
   "display_name": "Python 3",
   "language": "python",
   "name": "python3"
  },
  "language_info": {
   "codemirror_mode": {
    "name": "ipython",
    "version": 3
   },
   "file_extension": ".py",
   "mimetype": "text/x-python",
   "name": "python",
   "nbconvert_exporter": "python",
   "pygments_lexer": "ipython3",
   "version": "3.5.2"
  }
 },
 "nbformat": 4,
 "nbformat_minor": 2
}
