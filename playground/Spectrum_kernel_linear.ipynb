{
 "cells": [
  {
   "cell_type": "markdown",
   "metadata": {},
   "source": [
    "# Spectrum Kernel Development\n",
    "Described in Slides 341 -> 344."
   ]
  },
  {
   "cell_type": "code",
   "execution_count": null,
   "metadata": {
    "collapsed": true
   },
   "outputs": [],
   "source": [
    "%reset"
   ]
  },
  {
   "cell_type": "code",
   "execution_count": 26,
   "metadata": {
    "collapsed": true
   },
   "outputs": [],
   "source": [
    "import os\n",
    "os.chdir('../')\n",
    "\n",
    "from data_handler import *\n",
    "import matplotlib.pyplot as plt\n",
    "%matplotlib inline\n",
    "\n",
    "import numpy as np\n",
    "import pdb"
   ]
  },
  {
   "cell_type": "markdown",
   "metadata": {},
   "source": [
    "# Create Spectrum Kernel functions"
   ]
  },
  {
   "cell_type": "code",
   "execution_count": 2,
   "metadata": {
    "collapsed": true
   },
   "outputs": [],
   "source": [
    "%run data_handler.py"
   ]
  },
  {
   "cell_type": "code",
   "execution_count": 3,
   "metadata": {
    "collapsed": true
   },
   "outputs": [],
   "source": [
    "%run kernels.py"
   ]
  },
  {
   "cell_type": "code",
   "execution_count": 4,
   "metadata": {
    "collapsed": true
   },
   "outputs": [],
   "source": [
    "%run kernel_methods.py"
   ]
  },
  {
   "cell_type": "code",
   "execution_count": 5,
   "metadata": {},
   "outputs": [
    {
     "data": {
      "text/plain": [
       "95"
      ]
     },
     "execution_count": 5,
     "metadata": {},
     "output_type": "execute_result"
    }
   ],
   "source": [
    "data = load_data(1, 'tr')\n",
    "\n",
    "substring_length = 3\n",
    "dictionary = create_dictionary(data['Sequence'], substring_length)\n",
    "\n",
    "seq_A = data['Sequence'][0]\n",
    "seq_B = data['Sequence'][2]\n",
    "\n",
    "spetrum_kernel(seq_A, seq_B, substring_length, dictionary, False)"
   ]
  },
  {
   "cell_type": "markdown",
   "metadata": {},
   "source": [
    "Loading the datasets..."
   ]
  },
  {
   "cell_type": "code",
   "execution_count": 6,
   "metadata": {
    "collapsed": true,
    "scrolled": true
   },
   "outputs": [],
   "source": [
    "#Charge training data and create training vocabulary\n",
    "tr0 = load_data(0, 'tr')\n",
    "tr1 = load_data(1, 'tr')\n",
    "tr2 = load_data(2, 'tr')\n",
    "tr = pd.concat([tr0,tr1,tr2])\n",
    "\n",
    "## Loading test data\n",
    "te0 = load_data(0, 'te')\n",
    "te1 = load_data(1, 'te')\n",
    "te2 = load_data(2, 'te')"
   ]
  },
  {
   "cell_type": "markdown",
   "metadata": {},
   "source": [
    "# Kernel SVM with spectrum kernel"
   ]
  },
  {
   "cell_type": "markdown",
   "metadata": {},
   "source": [
    "Spectrum kernel attributes"
   ]
  },
  {
   "cell_type": "code",
   "execution_count": 7,
   "metadata": {
    "collapsed": true
   },
   "outputs": [],
   "source": [
    "substring_length = 5\n",
    "dictionary = create_dictionary(tr['Sequence'], substring_length)\n",
    "\n",
    "# Creating feature vectors\n",
    "features_tr0 = np.apply_along_axis(lambda seq_A: create_occ_feature(seq_A[0], substring_length, dictionary, False), axis=1, arr=tr0['Sequence'].as_matrix().reshape(2000,1))\n",
    "features_tr1 = np.apply_along_axis(lambda seq_A: create_occ_feature(seq_A[0], substring_length, dictionary, False), axis=1, arr=tr1['Sequence'].as_matrix().reshape(2000,1))\n",
    "features_tr2 = np.apply_along_axis(lambda seq_A: create_occ_feature(seq_A[0], substring_length, dictionary, False), axis=1, arr=tr2['Sequence'].as_matrix().reshape(2000,1))\n",
    "\n",
    "# Creating feature vectors\n",
    "features_te0 = np.apply_along_axis(lambda seq_A: create_occ_feature(seq_A[0], substring_length, dictionary, False), axis=1, arr=te0['Sequence'].as_matrix().reshape(1000,1))\n",
    "features_te1 = np.apply_along_axis(lambda seq_A: create_occ_feature(seq_A[0], substring_length, dictionary, False), axis=1, arr=te1['Sequence'].as_matrix().reshape(1000,1))\n",
    "features_te2 = np.apply_along_axis(lambda seq_A: create_occ_feature(seq_A[0], substring_length, dictionary, False), axis=1, arr=te2['Sequence'].as_matrix().reshape(1000,1))"
   ]
  },
  {
   "cell_type": "markdown",
   "metadata": {},
   "source": [
    "Normalizing data + adding offset column"
   ]
  },
  {
   "cell_type": "code",
   "execution_count": null,
   "metadata": {},
   "outputs": [],
   "source": [
    "features_tr0 = data_normalization(features_tr0, offset_column=False)\n",
    "features_tr1 = data_normalization(features_tr1, offset_column=False)\n",
    "features_tr2 = data_normalization(features_tr2, offset_column=False)\n",
    "\n",
    "features_te0 = data_normalization(features_te0, offset_column=False)\n",
    "features_te1 = data_normalization(features_te1, offset_column=False)\n",
    "features_te2 = data_normalization(features_te2, offset_column=False)"
   ]
  },
  {
   "cell_type": "markdown",
   "metadata": {},
   "source": [
    "Kernel SVM attributes"
   ]
  },
  {
   "cell_type": "code",
   "execution_count": null,
   "metadata": {
    "collapsed": true
   },
   "outputs": [],
   "source": [
    "lbda = 0.014"
   ]
  },
  {
   "cell_type": "code",
   "execution_count": null,
   "metadata": {
    "collapsed": true
   },
   "outputs": [],
   "source": [
    "### Kernel SVM - Linear from features ###\n",
    "kSVM = kernelSVM(lbda)\n",
    "\n",
    "#Train\n",
    "kSVM.train(features_tr0, \n",
    "         tr0['Bound'].as_matrix(), \n",
    "         stringsData=False)\n",
    "\n",
    "#Test\n",
    "predictions = kSVM.predict(features_te0, stringsData=False)"
   ]
  },
  {
   "cell_type": "code",
   "execution_count": null,
   "metadata": {
    "collapsed": true
   },
   "outputs": [],
   "source": [
    "## Running 4-fold cross-validation to assess performance on an arbitrary lambda\n",
    "\n",
    "tr0_assessment = kSVM.assess(\n",
    "    features_tr0, \n",
    "    tr0['Bound'].as_matrix(),\n",
    "    n_folds=4,\n",
    "    stringsData=False,\n",
    "    verbose=False\n",
    ")"
   ]
  },
  {
   "cell_type": "code",
   "execution_count": null,
   "metadata": {
    "collapsed": true
   },
   "outputs": [],
   "source": [
    "## Running a grid-search to assess the best value for lambda\n",
    "\n",
    "kSVM0_grid = kSVM.grid_search(\n",
    "    features_tr0,\n",
    "    tr0['Bound'].as_matrix(), \n",
    "    search_min = 0.00001,\n",
    "    search_max = 1,\n",
    "    search_count = 8,\n",
    "    n_folds = 5,\n",
    "    scale='log'\n",
    ")\n",
    "\n",
    "kSVM1_grid = kSVM.grid_search(\n",
    "    features_tr1,\n",
    "    tr1['Bound'].as_matrix(), \n",
    "    search_min = 0.00001,\n",
    "    search_max = 1,\n",
    "    search_count = 8,\n",
    "    n_folds = 5,\n",
    "    scale='log'\n",
    ")\n",
    "\n",
    "kSVM2_grid = kSVM.grid_search(\n",
    "    features_tr2,\n",
    "    tr2['Bound'].as_matrix(), \n",
    "    search_min = 0.00001,\n",
    "    search_max = 1,\n",
    "    search_count = 8,\n",
    "    n_folds = 5,\n",
    "    scale='log'\n",
    ")"
   ]
  },
  {
   "cell_type": "code",
   "execution_count": null,
   "metadata": {},
   "outputs": [],
   "source": [
    "kSVM0_grid"
   ]
  },
  {
   "cell_type": "code",
   "execution_count": null,
   "metadata": {},
   "outputs": [],
   "source": [
    "kSVM1_grid"
   ]
  },
  {
   "cell_type": "code",
   "execution_count": null,
   "metadata": {},
   "outputs": [],
   "source": [
    "kSVM2_grid"
   ]
  },
  {
   "cell_type": "code",
   "execution_count": null,
   "metadata": {
    "collapsed": true
   },
   "outputs": [],
   "source": [
    "## Comparing performances to the SciKit-learn SVC\n",
    "from sklearn.svm import SVC\n",
    "from sklearn.model_selection import KFold\n",
    "\n",
    "lbda = 0.014\n",
    "C = 1.0/lbda\n",
    "svc = SVC(C, kernel='linear')\n",
    "\n",
    "kf = KFold(n_splits=6)\n",
    "\n",
    "X0 = features_tr0\n",
    "y0 = tr0['Bound'].as_matrix()\n",
    "\n",
    "scores=[]\n",
    "\n",
    "for train_index, test_index in kf.split(X0):\n",
    "    X_train, X_test = X0[train_index], X0[test_index]\n",
    "    y_train, y_test = y0[train_index], y0[test_index]\n",
    "    svc.fit(X_train, y_train)\n",
    "    scores.append(svc.score(X_test,y_test))"
   ]
  },
  {
   "cell_type": "markdown",
   "metadata": {},
   "source": [
    "This fairly much proves that our SVM works as much as the one from SciKit..."
   ]
  },
  {
   "cell_type": "code",
   "execution_count": null,
   "metadata": {
    "collapsed": true
   },
   "outputs": [],
   "source": [
    "lbda = 0.03\n",
    "kSVM.lbda = lbda\n",
    "\n",
    "kSVM.train(features_tr0, tr0['Bound'].as_matrix())\n",
    "kSVM_te0_raw = kSVM.classify(kSVM.predict(features_te0))\n",
    "kSVM_te0 = pd.DataFrame(\n",
    "    data = format_preds(kSVM_te0_raw),\n",
    "    columns = ['Bound'])\n",
    "\n",
    "kSVM.train(features_tr1, tr1['Bound'].as_matrix())\n",
    "kSVM_te1_raw = kSVM.classify(kSVM.predict(features_te1))\n",
    "kSVM_te1 = pd.DataFrame(\n",
    "    data = format_preds(kSVM_te1_raw),\n",
    "    columns = ['Bound'])\n",
    "kSVM_te1.index = kSVM_te1.index + 1000\n",
    "\n",
    "kSVM.train(features_tr2, tr2['Bound'].as_matrix())\n",
    "kSVM_te2_raw = kSVM.classify(kSVM.predict(features_te2))\n",
    "kSVM_te2 = pd.DataFrame(\n",
    "    data = format_preds(kSVM_te2_raw),\n",
    "    columns = ['Bound'])\n",
    "kSVM_te2.index = kSVM_te2.index + 2000\n",
    "\n",
    "frames = [kSVM_te0, kSVM_te1, kSVM_te2]\n",
    "kSVM_te = pd.concat(frames)\n",
    "kSVM_te.index = kSVM_te.index.set_names(['Id'])\n",
    "\n",
    "kSVM_te.to_csv('predictions/kSVM33_spectrumKernel_te.csv')"
   ]
  },
  {
   "cell_type": "markdown",
   "metadata": {},
   "source": [
    "# KernelSVM with mismatch kernel"
   ]
  },
  {
   "cell_type": "code",
   "execution_count": null,
   "metadata": {
    "collapsed": true
   },
   "outputs": [],
   "source": [
    "alphabet = ['A', 'C', 'G', 'T']\n",
    "substring_length = 5\n",
    "mismatch_tol = 1\n",
    "\n",
    "vocab2index, _ = create_vocab(alphabet, substring_length)\n",
    "neighbours = compute_neighbours(vocab2index, mismatch_tol)\n",
    "\n",
    "# Creating mismatch kernels train feature vectors\n",
    "features_tr0 = np.zeros((len(tr0), len(vocab2index)))\n",
    "for idx, seq in enumerate(tr0['Sequence']):\n",
    "    features_tr0[idx, :] = create_mismatch_feature(seq, substring_length, vocab2index, neighbours, normalize=False)\n",
    "\n",
    "features_tr1 = np.zeros((len(tr1), len(vocab2index)))\n",
    "for idx, seq in enumerate(tr1['Sequence']):\n",
    "    features_tr1[idx, :] = create_mismatch_feature(seq, substring_length, vocab2index, neighbours, normalize=False)\n",
    "\n",
    "features_tr2 = np.zeros((len(tr2), len(vocab2index)))\n",
    "for idx, seq in enumerate(tr2['Sequence']):\n",
    "    features_tr2[idx, :] = create_mismatch_feature(seq, substring_length, vocab2index, neighbours, normalize=False)\n",
    "    \n",
    "# Creating mismatch kernels test feature vectors\n",
    "features_te0 = np.zeros((len(te0), len(vocab2index)))\n",
    "for idx, seq in enumerate(te0['Sequence']):\n",
    "    features_te0[idx, :] = create_mismatch_feature(seq, substring_length, vocab2index, neighbours, normalize=False)\n",
    "\n",
    "features_te1 = np.zeros((len(te1), len(vocab2index)))\n",
    "for idx, seq in enumerate(te1['Sequence']):\n",
    "    features_te1[idx, :] = create_mismatch_feature(seq, substring_length, vocab2index, neighbours, normalize=False)\n",
    "\n",
    "features_te2 = np.zeros((len(te2), len(vocab2index)))\n",
    "for idx, seq in enumerate(te2['Sequence']):\n",
    "    features_te2[idx, :] = create_mismatch_feature(seq, substring_length, vocab2index, neighbours, normalize=False)"
   ]
  },
  {
   "cell_type": "markdown",
   "metadata": {},
   "source": [
    "Features normalization layer"
   ]
  },
  {
   "cell_type": "code",
   "execution_count": null,
   "metadata": {
    "collapsed": true
   },
   "outputs": [],
   "source": [
    "features_tr0 = data_normalization(features_tr0, offset_column=True)\n",
    "features_tr1 = data_normalization(features_tr1, offset_column=True)\n",
    "features_tr2 = data_normalization(features_tr2, offset_column=True)\n",
    "\n",
    "features_te0 = data_normalization(features_te0, offset_column=True)\n",
    "features_te1 = data_normalization(features_te1, offset_column=True)\n",
    "features_te2 = data_normalization(features_te2, offset_column=True)"
   ]
  },
  {
   "cell_type": "code",
   "execution_count": null,
   "metadata": {
    "collapsed": true
   },
   "outputs": [],
   "source": [
    "## Running a grid-search to assess the best value for lambda\n",
    "lbda = 0.03\n",
    "kSVM_mm = kernelSVM(lbda)\n",
    "\n",
    "kSVM0_grid = kSVM_mm.grid_search(\n",
    "    features_tr0,\n",
    "    tr0['Bound'].as_matrix(), \n",
    "    search_min = 0.0001,\n",
    "    search_max = 100,\n",
    "    search_count = 7,\n",
    "    scale='log'\n",
    ")\n",
    "\n",
    "kSVM1_grid = kSVM_mm.grid_search(\n",
    "    features_tr1,\n",
    "    tr1['Bound'].as_matrix(), \n",
    "    search_min = 0.0001,\n",
    "    search_max = 100,\n",
    "    search_count = 7,\n",
    "    scale='log'\n",
    ")\n",
    "\n",
    "kSVM2_grid = kSVM_mm.grid_search(\n",
    "    features_tr2,\n",
    "    tr2['Bound'].as_matrix(), \n",
    "    search_min = 0.0001,\n",
    "    search_max = 100,\n",
    "    search_count = 7,\n",
    "    scale='log'\n",
    ")"
   ]
  },
  {
   "cell_type": "code",
   "execution_count": null,
   "metadata": {},
   "outputs": [],
   "source": [
    "kSVM0_grid"
   ]
  },
  {
   "cell_type": "code",
   "execution_count": null,
   "metadata": {},
   "outputs": [],
   "source": [
    "kSVM1_grid"
   ]
  },
  {
   "cell_type": "code",
   "execution_count": null,
   "metadata": {
    "scrolled": true
   },
   "outputs": [],
   "source": [
    "kSVM2_grid"
   ]
  },
  {
   "cell_type": "code",
   "execution_count": null,
   "metadata": {
    "collapsed": true
   },
   "outputs": [],
   "source": [
    "lbda = 1\n",
    "kSVM.lbda = lbda\n",
    "\n",
    "kSVM.train(features_tr0, tr0['Bound'].as_matrix())\n",
    "kSVM_te0_raw = kSVM.classify(kSVM.predict(features_te0))\n",
    "kSVM_te0 = pd.DataFrame(\n",
    "    data = format_preds(kSVM_te0_raw),\n",
    "    columns = ['Bound'])\n",
    "\n",
    "kSVM.train(features_tr1, tr1['Bound'].as_matrix())\n",
    "kSVM_te1_raw = kSVM.classify(kSVM.predict(features_te1))\n",
    "kSVM_te1 = pd.DataFrame(\n",
    "    data = format_preds(kSVM_te1_raw),\n",
    "    columns = ['Bound'])\n",
    "kSVM_te1.index = kSVM_te1.index + 1000\n",
    "\n",
    "kSVM.train(features_tr2, tr2['Bound'].as_matrix())\n",
    "kSVM_te2_raw = kSVM.classify(kSVM.predict(features_te2))\n",
    "kSVM_te2 = pd.DataFrame(\n",
    "    data = format_preds(kSVM_te2_raw),\n",
    "    columns = ['Bound'])\n",
    "kSVM_te2.index = kSVM_te2.index + 2000\n",
    "\n",
    "frames = [kSVM_te0, kSVM_te1, kSVM_te2]\n",
    "kSVM_te = pd.concat(frames)\n",
    "kSVM_te.index = kSVM_te.index.set_names(['Id'])\n",
    "\n",
    "kSVM_te.to_csv('predictions/kSVM1_mismatchKernel5_1_te.csv')"
   ]
  },
  {
   "cell_type": "markdown",
   "metadata": {},
   "source": [
    "# Kernel kNN with spectrum kernel"
   ]
  },
  {
   "cell_type": "code",
   "execution_count": null,
   "metadata": {
    "collapsed": true
   },
   "outputs": [],
   "source": [
    "### Kernel NN - Linear from features ###\n",
    "k = 1\n",
    "kNN = kernelKNN(k)"
   ]
  },
  {
   "cell_type": "code",
   "execution_count": null,
   "metadata": {
    "collapsed": true
   },
   "outputs": [],
   "source": [
    "kNN.train(features_tr0, tr0['Bound'].as_matrix())\n",
    "kNN_te0_raw = kNN.predict(features_te0)\n",
    "kNN_te0 = pd.DataFrame(\n",
    "    data = format_preds(kNN_te0_raw),\n",
    "    columns = ['Bound'])\n",
    "\n",
    "kNN.train(features_tr1, tr1['Bound'].as_matrix())\n",
    "kNN_te1_raw = kNN.predict(features_te1)\n",
    "kNN_te1 = pd.DataFrame(\n",
    "    data = format_preds(kNN_te1_raw),\n",
    "    columns = ['Bound'])\n",
    "kNN_te1.index = kNN_te1.index + 1000\n",
    "\n",
    "kNN.train(features_tr2, tr2['Bound'].as_matrix())\n",
    "kNN_te2_raw = kNN.predict(features_te2)\n",
    "kNN_te2 = pd.DataFrame(\n",
    "    data = format_preds(kNN_te2_raw),\n",
    "    columns = ['Bound'])\n",
    "kNN_te2.index = kNN_te2.index + 2000\n",
    "\n",
    "frames = [kNN_te0, kNN_te1, kNN_te2]\n",
    "kNN_te = pd.concat(frames)\n",
    "kNN_te.index = kNN_te.index.set_names(['Id'])\n",
    "\n",
    "kNN_te.to_csv('predictions/kNN10_spectralKernel_te.csv')"
   ]
  },
  {
   "cell_type": "code",
   "execution_count": null,
   "metadata": {
    "collapsed": true
   },
   "outputs": [],
   "source": [
    "### Kernel NN - Linear from features ###\n",
    "k = 1\n",
    "kNN = kernelKNN(k)\n",
    "kNN.assess(features_tr0, tr0['Bound'].as_matrix(), n_folds=5, stringsData=False)"
   ]
  },
  {
   "cell_type": "code",
   "execution_count": null,
   "metadata": {
    "collapsed": true
   },
   "outputs": [],
   "source": [
    "kNN.assess(features_tr1, tr1['Bound'].as_matrix(), n_folds=5, stringsData=False)"
   ]
  },
  {
   "cell_type": "code",
   "execution_count": null,
   "metadata": {
    "collapsed": true
   },
   "outputs": [],
   "source": [
    "kNN.assess(features_tr2, tr2['Bound'].as_matrix(), n_folds=5, stringsData=False)"
   ]
  },
  {
   "cell_type": "markdown",
   "metadata": {
    "collapsed": true
   },
   "source": [
    "## Mutual information criterion on string features"
   ]
  },
  {
   "cell_type": "code",
   "execution_count": 37,
   "metadata": {},
   "outputs": [],
   "source": [
    "def get_MI(data, labels, word_idx, bins):\n",
    "    n,p = data.shape\n",
    "    idx_bound = np.argwhere(labels==1)\n",
    "    idx_unbound = np.argwhere(labels==0)\n",
    "    data_bound = np.take(data, idx_bound, axis=0)\n",
    "    data_unbound = np.take(data, idx_unbound, axis=0)\n",
    "    \n",
    "    n_b = len(data_bound)\n",
    "    n_ub = n - n_b\n",
    "    data_bound = data_bound.reshape((n_b,p))\n",
    "    data_unbound = data_unbound.reshape((n_ub,p))\n",
    "    \n",
    "    p_b = n_b*1.0/n\n",
    "    p_ub = 1.0 - p_b\n",
    "    \n",
    "    MI = 0\n",
    "    for abin in bins:\n",
    "        b_cond = np.count_nonzero(np.isin(data_bound[:,word_idx], abin))*1.0/n_b\n",
    "        ub_cond= np.count_nonzero(np.isin(data_unbound[:,word_idx], abin))*1.0/n_ub\n",
    "\n",
    "        cond_data = np.isin(data[:,word_idx], abin)\n",
    "        n_cond = np.count_nonzero(cond_data)\n",
    "        if n_cond == 0:\n",
    "            continue\n",
    "        cond_b = np.count_nonzero(labels[cond_data]==1)*1.0/n_cond\n",
    "        cond_ub = 1.0 - cond_b       \n",
    "    \n",
    "        if cond_b > 0:\n",
    "            MI = MI + b_cond*p_b*np.log(cond_b/p_b)\n",
    "        if cond_ub > 0:\n",
    "            MI = MI + ub_cond*p_ub*np.log(cond_ub/p_ub)\n",
    "        if np.isnan(MI):\n",
    "            pdb.set_trace()\n",
    "    return MI\n",
    "\n",
    "def argmax_MI(data, labels, n_feats, bins):\n",
    "    n,p = data.shape\n",
    "    MI = np.zeros(p)\n",
    "    for word_idx in range(p):\n",
    "        MI[word_idx] = get_MI(data, labels, word_idx, bins)\n",
    "    max_MI_idx = np.argsort(MI)[-1:-(n_feats+2):-1]\n",
    "    return max_MI_idx, MI[max_MI_idx]\n",
    "\n",
    "def MI_dimRed(data, labels, n_feats, bins):\n",
    "    idx, MI_ranked = argmax_MI(data, features, n_feats, bins)\n",
    "    data_lowdim = np.take(data, idx, axis=1)\n",
    "    return data_lowdim, idx, MI_ranked"
   ]
  },
  {
   "cell_type": "code",
   "execution_count": 33,
   "metadata": {},
   "outputs": [],
   "source": [
    "n_feats = 300\n",
    "bins = [[0],[1],[2],range(3,6), range(6,12), range(12,30), range(30,101)]\n",
    "\n",
    "tr0_MIidx, tr0_MI_ranked = argmax_MI(features_tr0, tr0['Bound'].as_matrix(), n_feats, bins)\n",
    "tr1_MIidx, tr1_MI_ranked = argmax_MI(features_tr1, tr1['Bound'].as_matrix(), n_feats, bins)\n",
    "tr2_MIidx, tr2_MI_ranked = argmax_MI(features_tr2, tr2['Bound'].as_matrix(), n_feats, bins)"
   ]
  },
  {
   "cell_type": "code",
   "execution_count": 32,
   "metadata": {},
   "outputs": [
    {
     "data": {
      "text/plain": [
       "[<matplotlib.lines.Line2D at 0x7f60bb1a4278>]"
      ]
     },
     "execution_count": 32,
     "metadata": {},
     "output_type": "execute_result"
    },
    {
     "data": {
      "image/png": "[encoded data removed]",
      "text/plain": [
       "<matplotlib.figure.Figure at 0x7f60bebd2b70>"
      ]
     },
     "metadata": {},
     "output_type": "display_data"
    }
   ],
   "source": [
    "plt.plot(tr0_MI_ranked)"
   ]
  },
  {
   "cell_type": "code",
   "execution_count": 34,
   "metadata": {},
   "outputs": [
    {
     "data": {
      "text/plain": [
       "[<matplotlib.lines.Line2D at 0x7f60bb134b70>]"
      ]
     },
     "execution_count": 34,
     "metadata": {},
     "output_type": "execute_result"
    },
    {
     "data": {
      "image/png": "[encoded data removed]",
      "text/plain": [
       "<matplotlib.figure.Figure at 0x7f60bb2405c0>"
      ]
     },
     "metadata": {},
     "output_type": "display_data"
    }
   ],
   "source": [
    "plt.plot(tr1_MI_ranked)"
   ]
  },
  {
   "cell_type": "code",
   "execution_count": 35,
   "metadata": {},
   "outputs": [
    {
     "data": {
      "text/plain": [
       "[<matplotlib.lines.Line2D at 0x7f60bb061828>]"
      ]
     },
     "execution_count": 35,
     "metadata": {},
     "output_type": "execute_result"
    },
    {
     "data": {
      "image/png": "[encoded data removed]",
      "text/plain": [
       "<matplotlib.figure.Figure at 0x7f60bb0e02e8>"
      ]
     },
     "metadata": {},
     "output_type": "display_data"
    }
   ],
   "source": [
    "plt.plot(tr2_MI_ranked)"
   ]
  },
  {
   "cell_type": "code",
   "execution_count": 36,
   "metadata": {},
   "outputs": [],
   "source": [
    "nf_0 = 10\n",
    "tr0_MIidx, _ = argmax_MI(features_tr0, tr0['Bound'].as_matrix(), n_feats, bins)\n",
    "tr0_MIfeats = np.take(features_tr0, tr0_MIidx, axis=1)\n",
    "\n",
    "nf_1 = 16\n",
    "tr1_MIidx, _ = argmax_MI(features_tr1, tr0['Bound'].as_matrix(), n_feats, bins)\n",
    "tr1_MIfeats = np.take(features_tr1, tr1_MIidx, axis=1)\n",
    "\n",
    "nf_2 = 50\n",
    "tr2_MIidx, _ = argmax_MI(features_tr2, tr2['Bound'].as_matrix(), n_feats, bins)\n",
    "tr2_MIfeats = np.take(features_tr2, tr2_MIidx, axis=1)"
   ]
  },
  {
   "cell_type": "code",
   "execution_count": null,
   "metadata": {
    "collapsed": true
   },
   "outputs": [],
   "source": []
  }
 ],
 "metadata": {
  "kernelspec": {
   "display_name": "Python 3",
   "language": "python",
   "name": "python3"
  },
  "language_info": {
   "codemirror_mode": {
    "name": "ipython",
    "version": 3
   },
   "file_extension": ".py",
   "mimetype": "text/x-python",
   "name": "python",
   "nbconvert_exporter": "python",
   "pygments_lexer": "ipython3",
   "version": "3.6.2"
  }
 },
 "nbformat": 4,
 "nbformat_minor": 2
}
