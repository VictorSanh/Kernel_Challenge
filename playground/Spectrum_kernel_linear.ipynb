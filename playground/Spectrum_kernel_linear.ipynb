{
 "cells": [
  {
   "cell_type": "markdown",
   "metadata": {},
   "source": [
    "# Spectrum Kernel Development\n",
    "Described in Slides 341 -> 344."
   ]
  },
  {
   "cell_type": "code",
   "execution_count": null,
   "metadata": {
    "collapsed": true
   },
   "outputs": [],
   "source": [
    "%reset"
   ]
  },
  {
   "cell_type": "code",
   "execution_count": 1,
   "metadata": {
    "collapsed": true
   },
   "outputs": [],
   "source": [
    "import os\n",
    "os.chdir('../')\n",
    "\n",
    "from data_handler import *\n",
    "\n",
    "import numpy as np\n",
    "import pdb"
   ]
  },
  {
   "cell_type": "markdown",
   "metadata": {},
   "source": [
    "# Create Spectrum Kernel functions"
   ]
  },
  {
   "cell_type": "code",
   "execution_count": 2,
   "metadata": {
    "collapsed": true
   },
   "outputs": [],
   "source": [
    "def create_dictionary(training_sequences, substring_length):\n",
    "    '''Create the dictionary/vocabulary of possible subsequeces of length substring_length from training sequences.\n",
    "    \"ABCD\" contains two words of legnth 3: \"ABC\" and \"BCD\".\n",
    "    \n",
    "    Input:\n",
    "        training_sequences: array like strucutre containing training sequences\n",
    "        substring_length: length of substring in sequence\n",
    "    Output:\n",
    "        word_2_index: mapping between a word and its index. The keys are all the words of length substring_length appearing in training sequences. \n",
    "    '''\n",
    "    \n",
    "    unique_subsequences = set()\n",
    "\n",
    "    for string in training_sequences:\n",
    "        for start in range(len(string)-substring_length+1):\n",
    "            end = start + substring_length\n",
    "            substring = string[start:end]\n",
    "            unique_subsequences.add(substring)\n",
    "    \n",
    "    #Creating the word_2_index mapping words and their index. The keys are all the words.\n",
    "    unique_subsequences = sorted(unique_subsequences)\n",
    "    word_2_index = dict()\n",
    "    for idx, word in enumerate(unique_subsequences):\n",
    "        word_2_index[word] = idx\n",
    "        \n",
    "    return word_2_index"
   ]
  },
  {
   "cell_type": "code",
   "execution_count": 3,
   "metadata": {
    "collapsed": true
   },
   "outputs": [],
   "source": [
    "def create_occ_feature(sequence, substring_length, dictionary, normalize=True):\n",
    "    '''Create the spectrum kernel feature vector of occurences of every word in dictionary/vocabulary.\n",
    "    \n",
    "    Input:\n",
    "        sequence: ADN sequence to transform\n",
    "        dictionary: already trained dictionary listing all the words appearing in training and their index\n",
    "        normalize: if true, transform the occurences in percentage (frequencies)\n",
    "    Ouput:\n",
    "        feature: occurence of each word in dictionary/vocabulary\n",
    "    '''\n",
    "    \n",
    "    feature = np.zeros(len(dictionary), dtype = int)\n",
    "    \n",
    "    for start in range(len(sequence)-substring_length+1):\n",
    "        end = start + substring_length\n",
    "        substring = sequence[start:end]\n",
    "        if substring in dictionary: #It is possible that some word in test are not appearing in training\n",
    "            feature[dictionary[substring]] += 1\n",
    "            \n",
    "    if normalize:\n",
    "        feature = feature/feature.sum()\n",
    "        \n",
    "    return feature"
   ]
  },
  {
   "cell_type": "code",
   "execution_count": 4,
   "metadata": {
    "collapsed": true
   },
   "outputs": [],
   "source": [
    "def spetrum_kernel(sequence_A, sequence_B, substring_length, dictionary, normalize=False):\n",
    "    '''substring_length-spectrum kernel\n",
    "    \n",
    "    Input:\n",
    "        sequence_A: first sequence\n",
    "        sequence_B: second sequence\n",
    "        substring_length: length of word in vocabulary\n",
    "        dictionary: vocabulary derived from training\n",
    "        normalize: if true, transform the occurences in percentage (frequencies)\n",
    "    Output:\n",
    "        kernel similarity between sequence_A and sequence_B\n",
    "    '''\n",
    "    \n",
    "    feature_A = create_occ_feature(sequence_A, substring_length, dictionary, normalize)\n",
    "    feature_B = create_occ_feature(sequence_B, substring_length, dictionary, normalize)\n",
    "    \n",
    "    return np.dot(feature_A, feature_B)"
   ]
  },
  {
   "cell_type": "markdown",
   "metadata": {},
   "source": [
    "# Test these functions"
   ]
  },
  {
   "cell_type": "code",
   "execution_count": null,
   "metadata": {},
   "outputs": [],
   "source": [
    "data = load_data(1, 'tr')\n",
    "\n",
    "substring_length = 3\n",
    "dictionary = create_dictionary(data['Sequence'], substring_length)\n",
    "\n",
    "seq_A = data['Sequence'][0]\n",
    "seq_B = data['Sequence'][2]\n",
    "\n",
    "spetrum_kernel(seq_A, seq_B, substring_length, dictionary, False)"
   ]
  },
  {
   "cell_type": "markdown",
   "metadata": {},
   "source": [
    "# Kernel SVM with spectrum kernel"
   ]
  },
  {
   "cell_type": "code",
   "execution_count": 5,
   "metadata": {
    "collapsed": true
   },
   "outputs": [],
   "source": [
    "%run kernel_methods.py"
   ]
  },
  {
   "cell_type": "code",
   "execution_count": 6,
   "metadata": {
    "collapsed": true
   },
   "outputs": [],
   "source": [
    "lbda = 0.5\n",
    "kSVM = kernelSVM(lbda)"
   ]
  },
  {
   "cell_type": "code",
   "execution_count": 7,
   "metadata": {
    "collapsed": true,
    "scrolled": true
   },
   "outputs": [],
   "source": [
    "#Charge training data and create training vocabulary\n",
    "tr0 = load_data(0, 'tr')\n",
    "tr1 = load_data(1, 'tr')\n",
    "tr2 = load_data(2, 'tr')\n",
    "tr = pd.concat([tr0,tr1,tr2])\n",
    "\n",
    "substring_length = 3\n",
    "dictionary = create_dictionary(tr['Sequence'], substring_length)\n",
    "\n",
    "# Creating feature vectors\n",
    "features_tr0 = np.apply_along_axis(lambda seq_A: create_occ_feature(seq_A[0], substring_length, dictionary, False), axis=1, arr=tr0['Sequence'].as_matrix().reshape(2000,1))\n",
    "features_tr1 = np.apply_along_axis(lambda seq_A: create_occ_feature(seq_A[0], substring_length, dictionary, False), axis=1, arr=tr1['Sequence'].as_matrix().reshape(2000,1))\n",
    "features_tr2 = np.apply_along_axis(lambda seq_A: create_occ_feature(seq_A[0], substring_length, dictionary, False), axis=1, arr=tr2['Sequence'].as_matrix().reshape(2000,1))\n",
    "\n",
    "## Loading test data\n",
    "te0 = load_data(0, 'te')\n",
    "te1 = load_data(1, 'te')\n",
    "te2 = load_data(2, 'te')\n",
    "\n",
    "# Creating feature vectors\n",
    "features_te0 = np.apply_along_axis(lambda seq_A: create_occ_feature(seq_A[0], substring_length, dictionary, False), axis=1, arr=te0['Sequence'].as_matrix().reshape(1000,1))\n",
    "features_te1 = np.apply_along_axis(lambda seq_A: create_occ_feature(seq_A[0], substring_length, dictionary, False), axis=1, arr=te1['Sequence'].as_matrix().reshape(1000,1))\n",
    "features_te2 = np.apply_along_axis(lambda seq_A: create_occ_feature(seq_A[0], substring_length, dictionary, False), axis=1, arr=te2['Sequence'].as_matrix().reshape(1000,1))"
   ]
  },
  {
   "cell_type": "code",
   "execution_count": null,
   "metadata": {
    "collapsed": true
   },
   "outputs": [],
   "source": [
    "### Kernel SVM - From kernel ###\n",
    "#Train\n",
    "kSVM.train(tr0['Sequence'].as_matrix(), \n",
    "         tr0['Bound'].as_matrix(), \n",
    "         lambda seq_A, seq_B: spetrum_kernel(seq_A[0], seq_B[0], substring_length, dictionary, normalize = False))\n",
    "\n",
    "predictions = kSVM.predict(te0['Sequence'])"
   ]
  },
  {
   "cell_type": "code",
   "execution_count": null,
   "metadata": {
    "collapsed": true
   },
   "outputs": [],
   "source": [
    "### Kernel SVM - Linear from features ###\n",
    "#Train\n",
    "kSVM.train(features_tr0, \n",
    "         tr0['Bound'].as_matrix(), \n",
    "         stringsData=False, solver='mosek')\n",
    "\n",
    "#Test\n",
    "predictions = kSVM.predict(features_te0, stringsData=False)"
   ]
  },
  {
   "cell_type": "markdown",
   "metadata": {},
   "source": [
    "# Kernel kNN with spectrum kernel"
   ]
  },
  {
   "cell_type": "code",
   "execution_count": 21,
   "metadata": {
    "collapsed": true
   },
   "outputs": [],
   "source": [
    "### Kernel NN - Linear from features ###\n",
    "k = 10\n",
    "kNN = kernelKNN(k)"
   ]
  },
  {
   "cell_type": "code",
   "execution_count": 22,
   "metadata": {},
   "outputs": [
    {
     "name": "stdout",
     "output_type": "stream",
     "text": [
      "Building kernel matrix from 1000x2000 samples...\n",
      "...done in 7.60s\n",
      "Building kernel matrix from 1000x2000 samples...\n",
      "...done in 7.71s\n",
      "Building kernel matrix from 1000x2000 samples...\n",
      "...done in 8.54s\n"
     ]
    }
   ],
   "source": [
    "kNN.train(features_tr0, tr0['Bound'].as_matrix())\n",
    "kNN_te0_raw = kNN.predict(features_te0)\n",
    "kNN_te0 = pd.DataFrame(\n",
    "    data = format_preds(kNN_te0_raw),\n",
    "    columns = ['Bound'])\n",
    "\n",
    "kNN.train(features_tr1, tr1['Bound'].as_matrix())\n",
    "kNN_te1_raw = kNN.predict(features_te1)\n",
    "kNN_te1 = pd.DataFrame(\n",
    "    data = format_preds(kNN_te1_raw),\n",
    "    columns = ['Bound'])\n",
    "kNN_te1.index = kNN_te1.index + 1000\n",
    "\n",
    "kNN.train(features_tr2, tr2['Bound'].as_matrix())\n",
    "kNN_te2_raw = kNN.predict(features_te2)\n",
    "kNN_te2 = pd.DataFrame(\n",
    "    data = format_preds(kNN_te2_raw),\n",
    "    columns = ['Bound'])\n",
    "kNN_te2.index = kNN_te2.index + 2000\n",
    "\n",
    "frames = [kNN_te0, kNN_te1, kNN_te2]\n",
    "kNN_te = pd.concat(frames)\n",
    "kNN_te.index = kNN_te.index.set_names(['Id'])\n",
    "\n",
    "kNN_te.to_csv('predictions/kNN10_spectralKernel_te.csv')"
   ]
  },
  {
   "cell_type": "code",
   "execution_count": 18,
   "metadata": {},
   "outputs": [
    {
     "name": "stdout",
     "output_type": "stream",
     "text": [
      "Engaging n-fold cross validation with 5 folds on 2000 items\n",
      "Building kernel matrix from 400x1600 samples...\n",
      "...done in 2.45s\n",
      "Fold 0, Match rate: 0.90\n",
      "Building kernel matrix from 400x1600 samples...\n",
      "...done in 2.58s\n",
      "Fold 1, Match rate: 0.88\n",
      "Building kernel matrix from 400x1600 samples...\n",
      "...done in 2.41s\n",
      "Fold 2, Match rate: 0.90\n",
      "Building kernel matrix from 400x1600 samples...\n",
      "...done in 2.53s\n",
      "Fold 3, Match rate: 0.90\n",
      "Building kernel matrix from 400x1600 samples...\n",
      "...done in 2.56s\n",
      "Fold 4, Match rate: 0.90\n",
      "Done! Average Match rate is 0.90\n"
     ]
    },
    {
     "data": {
      "text/plain": [
       "0.89587499999999998"
      ]
     },
     "execution_count": 18,
     "metadata": {},
     "output_type": "execute_result"
    }
   ],
   "source": [
    "### Kernel NN - Linear from features ###\n",
    "k = 20\n",
    "kNN = kernelKNN(k)\n",
    "kNN.assess(features_tr0, tr0['Bound'].as_matrix(), n_folds=5, stringsData=False)"
   ]
  },
  {
   "cell_type": "code",
   "execution_count": 19,
   "metadata": {},
   "outputs": [
    {
     "name": "stdout",
     "output_type": "stream",
     "text": [
      "Engaging n-fold cross validation with 5 folds on 2000 items\n",
      "Building kernel matrix from 400x1600 samples...\n",
      "...done in 2.73s\n",
      "Fold 0, Match rate: 0.93\n",
      "Building kernel matrix from 400x1600 samples...\n",
      "...done in 2.57s\n",
      "Fold 1, Match rate: 0.92\n",
      "Building kernel matrix from 400x1600 samples...\n",
      "...done in 2.55s\n",
      "Fold 2, Match rate: 0.93\n",
      "Building kernel matrix from 400x1600 samples...\n",
      "...done in 2.58s\n",
      "Fold 3, Match rate: 0.92\n",
      "Building kernel matrix from 400x1600 samples...\n",
      "...done in 2.48s\n",
      "Fold 4, Match rate: 0.91\n",
      "Done! Average Match rate is 0.92\n"
     ]
    },
    {
     "data": {
      "text/plain": [
       "0.92225000000000001"
      ]
     },
     "execution_count": 19,
     "metadata": {},
     "output_type": "execute_result"
    }
   ],
   "source": [
    "kNN.assess(features_tr1, tr1['Bound'].as_matrix(), n_folds=5, stringsData=False)"
   ]
  },
  {
   "cell_type": "code",
   "execution_count": 20,
   "metadata": {},
   "outputs": [
    {
     "name": "stdout",
     "output_type": "stream",
     "text": [
      "Engaging n-fold cross validation with 5 folds on 2000 items\n",
      "Building kernel matrix from 400x1600 samples...\n",
      "...done in 2.59s\n",
      "Fold 0, Match rate: 0.89\n",
      "Building kernel matrix from 400x1600 samples...\n",
      "...done in 2.54s\n",
      "Fold 1, Match rate: 0.88\n",
      "Building kernel matrix from 400x1600 samples...\n",
      "...done in 2.46s\n",
      "Fold 2, Match rate: 0.89\n",
      "Building kernel matrix from 400x1600 samples...\n",
      "...done in 2.42s\n",
      "Fold 3, Match rate: 0.88\n",
      "Building kernel matrix from 400x1600 samples...\n",
      "...done in 2.57s\n",
      "Fold 4, Match rate: 0.89\n",
      "Done! Average Match rate is 0.88\n"
     ]
    },
    {
     "data": {
      "text/plain": [
       "0.88400000000000001"
      ]
     },
     "execution_count": 20,
     "metadata": {},
     "output_type": "execute_result"
    }
   ],
   "source": [
    "kNN.assess(features_tr2, tr2['Bound'].as_matrix(), n_folds=5, stringsData=False)"
   ]
  },
  {
   "cell_type": "code",
   "execution_count": null,
   "metadata": {
    "collapsed": true
   },
   "outputs": [],
   "source": []
  }
 ],
 "metadata": {
  "kernelspec": {
   "display_name": "Python 3",
   "language": "python",
   "name": "python3"
  },
  "language_info": {
   "codemirror_mode": {
    "name": "ipython",
    "version": 3
   },
   "file_extension": ".py",
   "mimetype": "text/x-python",
   "name": "python",
   "nbconvert_exporter": "python",
   "pygments_lexer": "ipython3",
   "version": "3.6.2"
  }
 },
 "nbformat": 4,
 "nbformat_minor": 2
}
