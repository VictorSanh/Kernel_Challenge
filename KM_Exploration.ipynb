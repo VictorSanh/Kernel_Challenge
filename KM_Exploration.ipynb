{
 "cells": [
  {
   "cell_type": "code",
   "execution_count": null,
   "metadata": {
    "collapsed": true
   },
   "outputs": [],
   "source": [
    "import numpy as np\n",
    "import pandas as pd\n",
    "import seaborn as sn\n",
    "import matplotlib.pyplot as plt\n",
    "\n",
    "## Debugging requirements\n",
    "import pdb\n",
    "\n",
    "## Performance metrics requirements\n",
    "import time\n",
    "\n",
    "## Kernel SVM requirements\n",
    "from cvxopt import matrix\n",
    "from cvxopt import solvers\n",
    "from scipy.spatial.distance import cdist\n",
    "from numpy.core.defchararray import not_equal\n",
    "\n",
    "## Exploring possibilities through sklearn\n",
    "from sklearn import svm"
   ]
  },
  {
   "cell_type": "markdown",
   "metadata": {},
   "source": [
    "## 1.Loading the data + sanity checks"
   ]
  },
  {
   "cell_type": "code",
   "execution_count": null,
   "metadata": {
    "collapsed": true
   },
   "outputs": [],
   "source": [
    "def load_data(dsID, set_type='tr', folder_name='data'):\n",
    "    Xdata_file = folder_name + '/X' + set_type + str(dsID) + '.csv'\n",
    "    X = pd.read_csv(Xdata_file, header=None, names=['Sequence'], dtype={'Sequence': np.unicode_})\n",
    "    if set_type=='tr':\n",
    "        Ydata_file = folder_name + '/Y' + set_type + str(dsID) + '.csv'\n",
    "        Y = pd.read_csv(Ydata_file, index_col=0, dtype={'Bound': np.dtype(bool)})\n",
    "        Y.index = Y.index - 1000*dsID\n",
    "        df = pd.concat([X, Y], axis=1)\n",
    "    else:\n",
    "        df = X\n",
    "    return df\n",
    "\n",
    "## Loading training data\n",
    "tr0 = load_data(0, 'tr')\n",
    "tr1 = load_data(1, 'tr')\n",
    "tr2 = load_data(2, 'tr')\n",
    "\n",
    "## Loading test data\n",
    "te0 = load_data(0, 'te')\n",
    "te1 = load_data(1, 'te')\n",
    "te2 = load_data(2, 'te')"
   ]
  },
  {
   "cell_type": "markdown",
   "metadata": {},
   "source": [
    "## 2. Defining first kernels + running simple classification model\n",
    "\n",
    "### First kernels\n",
    "\n",
    "Ok, so here all sequences have the same length. That means that we can start by something simple like Hamming. However, we may want to use something that would seamlessly extend to DNA sequences of different lengths...\n",
    "Here I will test both the Hamming and the Levenshtein distance as kernels for mapping DNA sequences:"
   ]
  },
  {
   "cell_type": "code",
   "execution_count": null,
   "metadata": {
    "collapsed": true
   },
   "outputs": [],
   "source": [
    "## Defining both string distances for first kernel tryouts:\n",
    "\n",
    "def hamming_distance(source, target):\n",
    "    \"\"\"Return the Hamming distance between equal-length sequences\"\"\"\n",
    "    if len(source) != len(target):\n",
    "        raise ValueError(\"Undefined for sequences of unequal length\")\n",
    "    return np.count_nonzero(not_equal(source,target))\n",
    "\n",
    "def levenshtein_distance(source, target):\n",
    "    if len(source) < len(target):\n",
    "        return levenshtein(target, source)\n",
    "\n",
    "    # So now we have len(source) >= len(target).\n",
    "    if len(target) == 0:\n",
    "        return len(source)\n",
    "\n",
    "    # We call tuple() to force strings to be used as sequences\n",
    "    # ('c', 'a', 't', 's') - numpy uses them as values by default.\n",
    "    source = np.array(tuple(source))\n",
    "    target = np.array(tuple(target))\n",
    "\n",
    "    # We use a dynamic programming algorithm, but with the\n",
    "    # added optimization that we only need the last two rows\n",
    "    # of the matrix.\n",
    "    previous_row = np.arange(target.size + 1)\n",
    "    for s in source:\n",
    "        # Insertion (target grows longer than source):\n",
    "        current_row = previous_row + 1\n",
    "\n",
    "        # Substitution or matching:\n",
    "        # Target and source items are aligned, and either\n",
    "        # are different (cost of 1), or are the same (cost of 0).\n",
    "        current_row[1:] = np.minimum(\n",
    "                current_row[1:],\n",
    "                np.add(previous_row[:-1], target != s))\n",
    "\n",
    "        # Deletion (target grows shorter than source):\n",
    "        current_row[1:] = np.minimum(\n",
    "                current_row[1:],\n",
    "                current_row[0:-1] + 1)\n",
    "\n",
    "        previous_row = current_row\n",
    "\n",
    "    return previous_row[-1]\n",
    "\n",
    "\n",
    "def build_kernel(arr1, arr2, kernel_fct):\n",
    "    \"\"\"Builds the kernel matrix from numpy array @arr and kernel function @kernel_fct. V1, unnefficient\"\"\"\n",
    "    try:\n",
    "        assert len(arr1) > 0\n",
    "        assert len(arr2) > 0\n",
    "    except AssertionError:\n",
    "        print('At least one of the argument arrays is empty')\n",
    "    if arr1.ndim == 1:\n",
    "        arr1 = arr1.reshape((len(arr1),1))\n",
    "    if arr2.ndim == 1:\n",
    "        arr2 = arr2.reshape((len(arr2),1))\n",
    "    K = cdist(arr1, arr2, lambda u, v: kernel_fct(list(u[0]),list(v[0])))\n",
    "    return K"
   ]
  },
  {
   "cell_type": "markdown",
   "metadata": {},
   "source": [
    "Let's see if we can get anything out of these kernels with SVM by using sklearn:"
   ]
  },
  {
   "cell_type": "code",
   "execution_count": null,
   "metadata": {},
   "outputs": [],
   "source": [
    "clf = svm.SVC(kernel=hamming_distance)\n",
    "clf.fit(tr0['Sequence'], tr0['Bound'])"
   ]
  },
  {
   "cell_type": "code",
   "execution_count": null,
   "metadata": {
    "collapsed": true
   },
   "outputs": [],
   "source": []
  }
 ],
 "metadata": {
  "kernelspec": {
   "display_name": "Python 3",
   "language": "python",
   "name": "python3"
  },
  "language_info": {
   "codemirror_mode": {
    "name": "ipython",
    "version": 3
   },
   "file_extension": ".py",
   "mimetype": "text/x-python",
   "name": "python",
   "nbconvert_exporter": "python",
   "pygments_lexer": "ipython3",
   "version": "3.6.2"
  }
 },
 "nbformat": 4,
 "nbformat_minor": 2
}
